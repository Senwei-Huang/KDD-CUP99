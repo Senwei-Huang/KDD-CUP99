{
 "cells": [
  {
   "cell_type": "markdown",
   "metadata": {},
   "source": [
    "### 程序功能：对前三步处理后的数据集KDDCUP99，使用支持向量机SVM实现分类并输出评价指标"
   ]
  },
  {
   "cell_type": "code",
   "execution_count": 1,
   "metadata": {},
   "outputs": [],
   "source": [
    "import sklearn\n",
    "import numpy as np\n",
    "import matplotlib.pyplot as plt\n",
    "from sklearn import metrics\n",
    "from sklearn import svm\n",
    "from time import *\n",
    "from sklearn.model_selection import train_test_split\n",
    "from sklearn.preprocessing import StandardScaler\n",
    "from sklearn.preprocessing import MinMaxScaler\n",
    "from sklearn.tree import DecisionTreeClassifier"
   ]
  },
  {
   "cell_type": "markdown",
   "metadata": {},
   "source": [
    "### 输出python和package的版本"
   ]
  },
  {
   "cell_type": "code",
   "execution_count": 2,
   "metadata": {},
   "outputs": [
    {
     "name": "stdout",
     "output_type": "stream",
     "text": [
      "platform  version: 1.0.8\n",
      "python version: 3.6.12\n",
      "csv version: 1.0\n",
      "numpy version: 1.19.2\n",
      "pandas version: 1.1.5\n",
      "scikit-learn version: 0.23.2\n",
      "matplotlib version: 3.3.2\n",
      "IPython version: 7.16.1\n"
     ]
    }
   ],
   "source": [
    "import platform \n",
    "print(\"platform  version: {}\".format(platform .__version__))\n",
    "print(\"python version: {}\".format(platform.python_version()))\n",
    "import csv\n",
    "print(\"csv version: {}\".format(csv.__version__))\n",
    "import numpy as np\n",
    "print(\"numpy version: {}\".format(np.__version__))\n",
    "import pandas as pd\n",
    "print(\"pandas version: {}\".format(pd.__version__))\n",
    "import sklearn\n",
    "print(\"scikit-learn version: {}\".format(sklearn.__version__))\n",
    "import matplotlib\n",
    "print(\"matplotlib version: {}\".format(matplotlib.__version__))\n",
    "import IPython\n",
    "print(\"IPython version: {}\".format(IPython.__version__))"
   ]
  },
  {
   "cell_type": "markdown",
   "metadata": {},
   "source": [
    "### 读取、处理数据集"
   ]
  },
  {
   "cell_type": "code",
   "execution_count": 3,
   "metadata": {},
   "outputs": [
    {
     "name": "stdout",
     "output_type": "stream",
     "text": [
      "数据集特征大小： (4898430, 10)\n",
      "数据集标签大小： 4898430\n"
     ]
    }
   ],
   "source": [
    "fr= open(\"kddcup.data.numerization_corrected_normalizing_StandardScaler.txt\")  # 打开数值化、修正后的数据集\n",
    "data = fr.readlines()                     # 读取所有行(直到结束符EOF)并返回列表\n",
    "line_nums = len(data)\n",
    "# data_feature = np.zeros((line_nums, 41))   # 创建line_nums行 41列的矩阵\n",
    "data_feature = np.zeros((line_nums, 10))   # 创建line_nums行 10列的矩阵\n",
    "data_labels = []\n",
    "for i in range(line_nums):                 # 依次读取每行\n",
    "    line = data[i].strip().split(',')      # 去掉每行头尾空白，分隔符对字符串进行切片\n",
    "#     data_feature[i, :] = line[0:41]        # 选择前41个特征  划分数据集特征和标签\n",
    "    feature = [3,4,5,6,8,10,13,23,24,37]   # 选择第3,4,5,6,8,10,13,23,24,37这10个特征分类\n",
    "    for j in feature:\n",
    "        data_feature[i,feature.index(j)] = line[j]\n",
    "    data_labels.append(line[-1])           # 标签\n",
    "fr.close()                                 # 关闭文件\n",
    "\n",
    "data_feature = StandardScaler().fit_transform(data_feature)   # 标准化，利用Sklearn库的StandardScaler实现数据标准化\n",
    "data_labels = StandardScaler().fit_transform(np.array(data_labels).reshape(-1, 1) )\n",
    "# data_feature = MinMaxScaler().fit_transform(data_feature)   # 归一化：利用Sklearn库的MinMaxScaler实现数据归一化，返回[0,1]区间的数据\n",
    "# data_labels = MinMaxScaler().fit_transform(np.array(data_labels).reshape(-1, 1) )\n",
    "\n",
    "print('数据集特征大小：',data_feature.shape)\n",
    "print('数据集标签大小：',len(data_labels))"
   ]
  },
  {
   "cell_type": "markdown",
   "metadata": {},
   "source": [
    "### 划分训练集和测试集"
   ]
  },
  {
   "cell_type": "code",
   "execution_count": 4,
   "metadata": {},
   "outputs": [
    {
     "name": "stdout",
     "output_type": "stream",
     "text": [
      "训练集特征大小：(2939058, 10)，训练集标签大小：(2939058,)\n",
      "测试集特征大小：(1959372, 10)，测试集标签大小：(1959372,)\n"
     ]
    }
   ],
   "source": [
    "data_label = []\n",
    "for i in data_labels: \n",
    "    data_label.append(int(float(i)))\n",
    "data_label =  np.array(data_label, dtype = int)       # list转换数组\n",
    "train_feature, test_feature, train_label, test_label = train_test_split(data_feature, data_label,test_size=0.4,random_state=4)# 测试集40%\n",
    "print('训练集特征大小：{}，训练集标签大小：{}'.format(train_feature.shape, train_label.shape))\n",
    "print('测试集特征大小：{}，测试集标签大小：{}'.format(test_feature.shape, test_label.shape))"
   ]
  },
  {
   "cell_type": "markdown",
   "metadata": {},
   "source": [
    "### 模型训练、预测"
   ]
  },
  {
   "cell_type": "markdown",
   "metadata": {},
   "source": [
    "#### 方法一：决策树DT"
   ]
  },
  {
   "cell_type": "code",
   "execution_count": 5,
   "metadata": {},
   "outputs": [
    {
     "name": "stdout",
     "output_type": "stream",
     "text": [
      "Start training DT：DecisionTreeClassifier(max_depth=20)\n",
      "Training done！\n",
      "Start prediction DT：\n",
      "Prediction done！\n",
      "预测结果： [0 0 0 ... 0 0 0]\n",
      "实际结果： [0 0 0 ... 0 0 0]\n",
      "正确预测的数量： 1948126\n",
      "训练预测耗时： 23.319088220596313 s\n"
     ]
    }
   ],
   "source": [
    "begin_time = time()                     # 训练预测开始时间\n",
    "if __name__ == '__main__':\n",
    "    print('Start training DT：',end='')\n",
    "    dt = sklearn.tree.DecisionTreeClassifier(criterion='gini',splitter='best', max_depth=20, min_samples_split=2, min_samples_leaf =1)\n",
    "    dt.fit(train_feature, train_label)\n",
    "    print(dt)\n",
    "    print('Training done！')\n",
    "\n",
    "    print('Start prediction DT：')\n",
    "    test_predict = dt.predict(test_feature)\n",
    "    print('Prediction done！')\n",
    "\n",
    "    print('预测结果：',test_predict)\n",
    "    print('实际结果：',test_label)\n",
    "    print('正确预测的数量：',sum(test_predict==test_label)) \n",
    "end_time = time()                        # 训练预测结束时间\n",
    "total_time = end_time - begin_time\n",
    "print('训练预测耗时：',total_time,'s')"
   ]
  },
  {
   "cell_type": "markdown",
   "metadata": {},
   "source": [
    "#### 方法二：支持向量机SVM"
   ]
  },
  {
   "cell_type": "code",
   "execution_count": 6,
   "metadata": {},
   "outputs": [],
   "source": [
    "# # begin_time = time()                         # 训练预测开始时间\n",
    "# if __name__ == '__main__':\n",
    "#     print('Start training SVM：',end='')\n",
    "#     svm = sklearn.svm.SVC(kernel='rbf', C=1.0, gamma=1.5, tol=1e-2)  # 选择高斯核函数rbf，正则化系数为1，核函数系数0.5，SMO迭代精度1e-2\n",
    "#     svm.fit(train_feature, train_label)      # 开始训练SVM\n",
    "#     print(svm)\n",
    "#     print('Training done！')\n",
    "    \n",
    "#     print('Start prediction SVM：')\n",
    "#     test_predict = svm.predict(test_feature) # 对测试集进行类别预测\n",
    "#     print('Prediction done！')\n",
    "    \n",
    "#     print('预测结果：',test_predict)\n",
    "#     print('实际结果：',test_label)\n",
    "#     print('正确预测的数量：',sum(test_predict==test_label)) \n",
    "# # end_time = time                             # 训练预测结束时间\n",
    "# # total_time = end_time - begin_time\n",
    "# # print('训练预测耗时：',total_time,'s')"
   ]
  },
  {
   "cell_type": "markdown",
   "metadata": {},
   "source": [
    "### 输出分类报告"
   ]
  },
  {
   "cell_type": "code",
   "execution_count": 7,
   "metadata": {},
   "outputs": [
    {
     "name": "stdout",
     "output_type": "stream",
     "text": [
      "准确率: 0.994260405885151\n",
      "宏平均精确率: 0.8369072347251401\n",
      "微平均精确率: 0.994260405885151\n",
      "宏平均召回率: 0.7903197567844534\n",
      "平均F1-score: 0.9942064323051741\n",
      "混淆矩阵输出:\n",
      "[[ 383254    5307       3      37       5       2      12      11       6\n",
      "        3]\n",
      " [   3995 1548599       0       1       0       0       0       0       0\n",
      "        0]\n",
      " [      5       0     530       0       0       0       0       0       0\n",
      "        0]\n",
      " [   1199      19       1    7844       0       0       8       0       1\n",
      "        0]\n",
      " [      2       1       0       0       5       0       0       0       0\n",
      "        0]\n",
      " [      8       0       0       0       0     870       0       0       0\n",
      "        0]\n",
      " [    137       0       0      11       0       0    6148       0       0\n",
      "        0]\n",
      " [      9       1       0     436       0       0       1     487       1\n",
      "        0]\n",
      " [     20       0       0       0       0       0       0       0     389\n",
      "        0]\n",
      " [      4       0       0       0       0       0       0       0       0\n",
      "        0]]\n",
      "分类报告:\n",
      "              precision    recall  f1-score   support\n",
      "\n",
      "          -1       0.99      0.99      0.99    388640\n",
      "           0       1.00      1.00      1.00   1552595\n",
      "           1       0.99      0.99      0.99       535\n",
      "           2       0.94      0.86      0.90      9072\n",
      "           3       0.50      0.62      0.56         8\n",
      "           4       1.00      0.99      0.99       878\n",
      "           5       1.00      0.98      0.99      6296\n",
      "           6       0.98      0.52      0.68       935\n",
      "           7       0.98      0.95      0.97       409\n",
      "           8       0.00      0.00      0.00         4\n",
      "\n",
      "    accuracy                           0.99   1959372\n",
      "   macro avg       0.84      0.79      0.81   1959372\n",
      "weighted avg       0.99      0.99      0.99   1959372\n",
      "\n"
     ]
    }
   ],
   "source": [
    "print('准确率:', metrics.accuracy_score(test_label, test_predict))                         # 预测准确率输出\n",
    "print('宏平均精确率:',metrics.precision_score(test_label,test_predict,average='macro'))    # 预测宏平均精确率输出\n",
    "print('微平均精确率:', metrics.precision_score(test_label, test_predict, average='micro')) # 预测微平均精确率输出\n",
    "print('宏平均召回率:',metrics.recall_score(test_label,test_predict,average='macro'))       # 预测宏平均召回率输出\n",
    "print('平均F1-score:',metrics.f1_score(test_label,test_predict,average='weighted'))        # 预测平均f1-score输出\n",
    "print('混淆矩阵输出:')\n",
    "print(metrics.confusion_matrix(test_label,test_predict))                                   # 混淆矩阵输出\n",
    "# 从精确率:precision、召回率:recall、 调和平均f1值:f1-score和支持度:support四个维度进行衡量\n",
    "print('分类报告:')\n",
    "print(metrics.classification_report(test_label, test_predict))                             # 分类报告输出"
   ]
  }
 ],
 "metadata": {
  "kernelspec": {
   "display_name": "Python 3",
   "language": "python",
   "name": "python3"
  },
  "language_info": {
   "codemirror_mode": {
    "name": "ipython",
    "version": 3
   },
   "file_extension": ".py",
   "mimetype": "text/x-python",
   "name": "python",
   "nbconvert_exporter": "python",
   "pygments_lexer": "ipython3",
   "version": "3.6.12"
  }
 },
 "nbformat": 4,
 "nbformat_minor": 4
}
